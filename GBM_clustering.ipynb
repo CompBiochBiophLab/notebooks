{
 "cells": [
  {
   "cell_type": "markdown",
   "id": "27a5e8be",
   "metadata": {},
   "source": [
    "## 1. Visualisation"
   ]
  },
  {
   "cell_type": "code",
   "execution_count": 2,
   "id": "778e7f59",
   "metadata": {
    "scrolled": true
   },
   "outputs": [
    {
     "name": "stdout",
     "output_type": "stream",
     "text": [
      "Requirement already satisfied: scprep in /Users/lidiayung/miniconda3/lib/python3.9/site-packages (1.1.0)\n",
      "Requirement already satisfied: umap-learn in /Users/lidiayung/miniconda3/lib/python3.9/site-packages (0.5.3)\n",
      "Requirement already satisfied: phate in /Users/lidiayung/miniconda3/lib/python3.9/site-packages (1.0.7)\n",
      "Requirement already satisfied: pandas>=0.25 in /Users/lidiayung/miniconda3/lib/python3.9/site-packages (from scprep) (1.4.2)\n",
      "Requirement already satisfied: packaging in /Users/lidiayung/miniconda3/lib/python3.9/site-packages (from scprep) (21.3)\n",
      "Requirement already satisfied: scipy>=0.18.1 in /Users/lidiayung/miniconda3/lib/python3.9/site-packages (from scprep) (1.8.0)\n",
      "Requirement already satisfied: decorator>=4.3.0 in /Users/lidiayung/miniconda3/lib/python3.9/site-packages (from scprep) (5.1.1)\n",
      "Requirement already satisfied: numpy>=1.12.0 in /Users/lidiayung/miniconda3/lib/python3.9/site-packages (from scprep) (1.21.6)\n",
      "Requirement already satisfied: scikit-learn>=0.19.1 in /Users/lidiayung/miniconda3/lib/python3.9/site-packages (from scprep) (1.0.2)\n",
      "Requirement already satisfied: tqdm in /Users/lidiayung/miniconda3/lib/python3.9/site-packages (from umap-learn) (4.62.3)\n",
      "Requirement already satisfied: numba>=0.49 in /Users/lidiayung/miniconda3/lib/python3.9/site-packages (from umap-learn) (0.55.1)\n",
      "Requirement already satisfied: pynndescent>=0.5 in /Users/lidiayung/miniconda3/lib/python3.9/site-packages (from umap-learn) (0.5.6)\n",
      "Requirement already satisfied: tasklogger>=1.0 in /Users/lidiayung/miniconda3/lib/python3.9/site-packages (from phate) (1.1.2)\n",
      "Requirement already satisfied: s-gd2>=1.5 in /Users/lidiayung/miniconda3/lib/python3.9/site-packages (from phate) (1.8)\n",
      "Requirement already satisfied: matplotlib>=3.0 in /Users/lidiayung/miniconda3/lib/python3.9/site-packages (from phate) (3.5.2)\n",
      "Requirement already satisfied: graphtools>=1.3.1 in /Users/lidiayung/miniconda3/lib/python3.9/site-packages (from phate) (1.5.2)\n",
      "Requirement already satisfied: Deprecated in /Users/lidiayung/miniconda3/lib/python3.9/site-packages (from phate) (1.2.13)\n",
      "Requirement already satisfied: future in /Users/lidiayung/miniconda3/lib/python3.9/site-packages (from phate) (0.18.2)\n",
      "Requirement already satisfied: pygsp>=0.5.1 in /Users/lidiayung/miniconda3/lib/python3.9/site-packages (from graphtools>=1.3.1->phate) (0.5.1)\n",
      "Requirement already satisfied: pyparsing>=2.2.1 in /Users/lidiayung/miniconda3/lib/python3.9/site-packages (from matplotlib>=3.0->phate) (3.0.4)\n",
      "Requirement already satisfied: python-dateutil>=2.7 in /Users/lidiayung/miniconda3/lib/python3.9/site-packages (from matplotlib>=3.0->phate) (2.8.2)\n",
      "Requirement already satisfied: fonttools>=4.22.0 in /Users/lidiayung/miniconda3/lib/python3.9/site-packages (from matplotlib>=3.0->phate) (4.33.3)\n",
      "Requirement already satisfied: cycler>=0.10 in /Users/lidiayung/miniconda3/lib/python3.9/site-packages (from matplotlib>=3.0->phate) (0.11.0)\n",
      "Requirement already satisfied: pillow>=6.2.0 in /Users/lidiayung/miniconda3/lib/python3.9/site-packages (from matplotlib>=3.0->phate) (9.1.0)\n",
      "Requirement already satisfied: kiwisolver>=1.0.1 in /Users/lidiayung/miniconda3/lib/python3.9/site-packages (from matplotlib>=3.0->phate) (1.4.2)\n",
      "Requirement already satisfied: llvmlite<0.39,>=0.38.0rc1 in /Users/lidiayung/miniconda3/lib/python3.9/site-packages (from numba>=0.49->umap-learn) (0.38.0)\n",
      "Requirement already satisfied: setuptools in /Users/lidiayung/miniconda3/lib/python3.9/site-packages (from numba>=0.49->umap-learn) (58.0.4)\n",
      "Requirement already satisfied: pytz>=2020.1 in /Users/lidiayung/miniconda3/lib/python3.9/site-packages (from pandas>=0.25->scprep) (2022.1)\n",
      "Requirement already satisfied: joblib>=0.11 in /Users/lidiayung/miniconda3/lib/python3.9/site-packages (from pynndescent>=0.5->umap-learn) (1.1.0)\n",
      "Requirement already satisfied: six>=1.5 in /Users/lidiayung/miniconda3/lib/python3.9/site-packages (from python-dateutil>=2.7->matplotlib>=3.0->phate) (1.16.0)\n",
      "Requirement already satisfied: threadpoolctl>=2.0.0 in /Users/lidiayung/miniconda3/lib/python3.9/site-packages (from scikit-learn>=0.19.1->scprep) (3.1.0)\n",
      "Requirement already satisfied: wrapt<2,>=1.10 in /Users/lidiayung/miniconda3/lib/python3.9/site-packages (from Deprecated->phate) (1.14.1)\n",
      "\n",
      "Usage:   \n",
      "  pip install [options] <requirement specifier> [package-index-options] ...\n",
      "  pip install [options] -r <requirements file> [package-index-options] ...\n",
      "  pip install [options] [-e] <vcs project url> ...\n",
      "  pip install [options] [-e] <local project path> ...\n",
      "  pip install [options] <archive url/path> ...\n",
      "\n",
      "no such option: --U\n"
     ]
    }
   ],
   "source": [
    "!pip install scprep umap-learn phate\n",
    "!pip install --U --no-catche-dir gdown -- pre"
   ]
  },
  {
   "cell_type": "code",
   "execution_count": 3,
   "id": "177e2600",
   "metadata": {},
   "outputs": [
    {
     "name": "stdout",
     "output_type": "stream",
     "text": [
      "Requirement already satisfied: scprep in /Users/lidiayung/miniconda3/lib/python3.9/site-packages (1.1.0)\n",
      "Requirement already satisfied: phate in /Users/lidiayung/miniconda3/lib/python3.9/site-packages (1.0.7)\n",
      "Requirement already satisfied: umap-learn in /Users/lidiayung/miniconda3/lib/python3.9/site-packages (0.5.3)\n",
      "Requirement already satisfied: numpy>=1.12.0 in /Users/lidiayung/miniconda3/lib/python3.9/site-packages (from scprep) (1.21.6)\n",
      "Requirement already satisfied: scikit-learn>=0.19.1 in /Users/lidiayung/miniconda3/lib/python3.9/site-packages (from scprep) (1.0.2)\n",
      "Requirement already satisfied: decorator>=4.3.0 in /Users/lidiayung/miniconda3/lib/python3.9/site-packages (from scprep) (5.1.1)\n",
      "Requirement already satisfied: scipy>=0.18.1 in /Users/lidiayung/miniconda3/lib/python3.9/site-packages (from scprep) (1.8.0)\n",
      "Requirement already satisfied: pandas>=0.25 in /Users/lidiayung/miniconda3/lib/python3.9/site-packages (from scprep) (1.4.2)\n",
      "Requirement already satisfied: packaging in /Users/lidiayung/miniconda3/lib/python3.9/site-packages (from scprep) (21.3)\n",
      "Requirement already satisfied: future in /Users/lidiayung/miniconda3/lib/python3.9/site-packages (from phate) (0.18.2)\n",
      "Requirement already satisfied: matplotlib>=3.0 in /Users/lidiayung/miniconda3/lib/python3.9/site-packages (from phate) (3.5.2)\n",
      "Requirement already satisfied: graphtools>=1.3.1 in /Users/lidiayung/miniconda3/lib/python3.9/site-packages (from phate) (1.5.2)\n",
      "Requirement already satisfied: s-gd2>=1.5 in /Users/lidiayung/miniconda3/lib/python3.9/site-packages (from phate) (1.8)\n",
      "Requirement already satisfied: tasklogger>=1.0 in /Users/lidiayung/miniconda3/lib/python3.9/site-packages (from phate) (1.1.2)\n",
      "Requirement already satisfied: Deprecated in /Users/lidiayung/miniconda3/lib/python3.9/site-packages (from phate) (1.2.13)\n",
      "Requirement already satisfied: pynndescent>=0.5 in /Users/lidiayung/miniconda3/lib/python3.9/site-packages (from umap-learn) (0.5.6)\n",
      "Requirement already satisfied: numba>=0.49 in /Users/lidiayung/miniconda3/lib/python3.9/site-packages (from umap-learn) (0.55.1)\n",
      "Requirement already satisfied: tqdm in /Users/lidiayung/miniconda3/lib/python3.9/site-packages (from umap-learn) (4.62.3)\n",
      "Requirement already satisfied: pygsp>=0.5.1 in /Users/lidiayung/miniconda3/lib/python3.9/site-packages (from graphtools>=1.3.1->phate) (0.5.1)\n",
      "Requirement already satisfied: pyparsing>=2.2.1 in /Users/lidiayung/miniconda3/lib/python3.9/site-packages (from matplotlib>=3.0->phate) (3.0.4)\n",
      "Requirement already satisfied: python-dateutil>=2.7 in /Users/lidiayung/miniconda3/lib/python3.9/site-packages (from matplotlib>=3.0->phate) (2.8.2)\n",
      "Requirement already satisfied: cycler>=0.10 in /Users/lidiayung/miniconda3/lib/python3.9/site-packages (from matplotlib>=3.0->phate) (0.11.0)\n",
      "Requirement already satisfied: fonttools>=4.22.0 in /Users/lidiayung/miniconda3/lib/python3.9/site-packages (from matplotlib>=3.0->phate) (4.33.3)\n",
      "Requirement already satisfied: kiwisolver>=1.0.1 in /Users/lidiayung/miniconda3/lib/python3.9/site-packages (from matplotlib>=3.0->phate) (1.4.2)\n",
      "Requirement already satisfied: pillow>=6.2.0 in /Users/lidiayung/miniconda3/lib/python3.9/site-packages (from matplotlib>=3.0->phate) (9.1.0)\n",
      "Requirement already satisfied: llvmlite<0.39,>=0.38.0rc1 in /Users/lidiayung/miniconda3/lib/python3.9/site-packages (from numba>=0.49->umap-learn) (0.38.0)\n",
      "Requirement already satisfied: setuptools in /Users/lidiayung/miniconda3/lib/python3.9/site-packages (from numba>=0.49->umap-learn) (58.0.4)\n",
      "Requirement already satisfied: pytz>=2020.1 in /Users/lidiayung/miniconda3/lib/python3.9/site-packages (from pandas>=0.25->scprep) (2022.1)\n",
      "Requirement already satisfied: joblib>=0.11 in /Users/lidiayung/miniconda3/lib/python3.9/site-packages (from pynndescent>=0.5->umap-learn) (1.1.0)\n",
      "Requirement already satisfied: six>=1.5 in /Users/lidiayung/miniconda3/lib/python3.9/site-packages (from python-dateutil>=2.7->matplotlib>=3.0->phate) (1.16.0)\n",
      "Requirement already satisfied: threadpoolctl>=2.0.0 in /Users/lidiayung/miniconda3/lib/python3.9/site-packages (from scikit-learn>=0.19.1->scprep) (3.1.0)\n",
      "Requirement already satisfied: wrapt<2,>=1.10 in /Users/lidiayung/miniconda3/lib/python3.9/site-packages (from Deprecated->phate) (1.14.1)\n",
      "Requirement already satisfied: gdown in /Users/lidiayung/miniconda3/lib/python3.9/site-packages (4.5.1)\n",
      "Requirement already satisfied: pre in /Users/lidiayung/miniconda3/lib/python3.9/site-packages (1.3.0)\n",
      "Requirement already satisfied: requests[socks] in /Users/lidiayung/miniconda3/lib/python3.9/site-packages (from gdown) (2.27.1)\n",
      "Requirement already satisfied: tqdm in /Users/lidiayung/miniconda3/lib/python3.9/site-packages (from gdown) (4.62.3)\n",
      "Requirement already satisfied: six in /Users/lidiayung/miniconda3/lib/python3.9/site-packages (from gdown) (1.16.0)\n",
      "Requirement already satisfied: beautifulsoup4 in /Users/lidiayung/miniconda3/lib/python3.9/site-packages (from gdown) (4.11.1)\n",
      "Requirement already satisfied: filelock in /Users/lidiayung/miniconda3/lib/python3.9/site-packages (from gdown) (3.6.0)\n",
      "Requirement already satisfied: soupsieve>1.2 in /Users/lidiayung/miniconda3/lib/python3.9/site-packages (from beautifulsoup4->gdown) (2.3.1)\n",
      "Requirement already satisfied: certifi>=2017.4.17 in /Users/lidiayung/miniconda3/lib/python3.9/site-packages (from requests[socks]->gdown) (2021.10.8)\n",
      "Requirement already satisfied: urllib3<1.27,>=1.21.1 in /Users/lidiayung/miniconda3/lib/python3.9/site-packages (from requests[socks]->gdown) (1.26.7)\n",
      "Requirement already satisfied: charset-normalizer~=2.0.0 in /Users/lidiayung/miniconda3/lib/python3.9/site-packages (from requests[socks]->gdown) (2.0.4)\n",
      "Requirement already satisfied: idna<4,>=2.5 in /Users/lidiayung/miniconda3/lib/python3.9/site-packages (from requests[socks]->gdown) (3.3)\n",
      "Requirement already satisfied: PySocks!=1.5.7,>=1.5.6 in /Users/lidiayung/miniconda3/lib/python3.9/site-packages (from requests[socks]->gdown) (1.7.1)\n"
     ]
    }
   ],
   "source": [
    "!pip install scprep phate umap-learn\n",
    "!pip install -U --no-cache-dir gdown -- pre"
   ]
  },
  {
   "cell_type": "code",
   "execution_count": 70,
   "id": "bd88fec1",
   "metadata": {},
   "outputs": [],
   "source": [
    "import gdown\n",
    "import scprep\n",
    "import phate"
   ]
  },
  {
   "cell_type": "code",
   "execution_count": 71,
   "id": "77822e1a",
   "metadata": {},
   "outputs": [],
   "source": [
    "import numpy, pandas, matplotlib,umap\n",
    "import matplotlib.pyplot\n",
    "matplotlib.rcParams.update({'font.size':20, 'font.family':'sans-serif', \n",
    "                            'xtick.labelsize':30, 'ytick.labelsize':30, 'figure.figsize':(12, 6.75), \n",
    "                            'axes.labelsize':40})"
   ]
  },
  {
   "cell_type": "code",
   "execution_count": 8,
   "id": "f6230369",
   "metadata": {},
   "outputs": [],
   "source": [
    "from sklearn.decomposition import PCA\n",
    "#from sklearn.cluster "
   ]
  },
  {
   "cell_type": "code",
   "execution_count": 9,
   "id": "d8facde1",
   "metadata": {},
   "outputs": [
    {
     "data": {
      "text/html": [
       "<div>\n",
       "<style scoped>\n",
       "    .dataframe tbody tr th:only-of-type {\n",
       "        vertical-align: middle;\n",
       "    }\n",
       "\n",
       "    .dataframe tbody tr th {\n",
       "        vertical-align: top;\n",
       "    }\n",
       "\n",
       "    .dataframe thead th {\n",
       "        text-align: right;\n",
       "    }\n",
       "</style>\n",
       "<table border=\"1\" class=\"dataframe\">\n",
       "  <thead>\n",
       "    <tr style=\"text-align: right;\">\n",
       "      <th>GENE</th>\n",
       "      <th>A2M</th>\n",
       "      <th>AAAS</th>\n",
       "      <th>AAK1</th>\n",
       "      <th>AAMP</th>\n",
       "      <th>AARS</th>\n",
       "      <th>AARSD1</th>\n",
       "      <th>AASDH</th>\n",
       "      <th>AASDHPPT</th>\n",
       "      <th>AASS</th>\n",
       "      <th>AATF</th>\n",
       "      <th>...</th>\n",
       "      <th>ZSCAN30</th>\n",
       "      <th>ZSWIM6</th>\n",
       "      <th>ZSWIM7</th>\n",
       "      <th>ZUFSP</th>\n",
       "      <th>ZW10</th>\n",
       "      <th>ZWILCH</th>\n",
       "      <th>ZXDC</th>\n",
       "      <th>ZYG11B</th>\n",
       "      <th>ZYX</th>\n",
       "      <th>ZZZ3</th>\n",
       "    </tr>\n",
       "  </thead>\n",
       "  <tbody>\n",
       "    <tr>\n",
       "      <th>MGH264_A01</th>\n",
       "      <td>0.0</td>\n",
       "      <td>0.000000</td>\n",
       "      <td>0.000000</td>\n",
       "      <td>8.471800</td>\n",
       "      <td>8.212539</td>\n",
       "      <td>1.148348</td>\n",
       "      <td>7.280847</td>\n",
       "      <td>8.315297</td>\n",
       "      <td>6.301266</td>\n",
       "      <td>6.185458</td>\n",
       "      <td>...</td>\n",
       "      <td>8.855828</td>\n",
       "      <td>4.730564</td>\n",
       "      <td>0.000000</td>\n",
       "      <td>0.0</td>\n",
       "      <td>0.000000</td>\n",
       "      <td>0.0</td>\n",
       "      <td>1.148348</td>\n",
       "      <td>6.428980</td>\n",
       "      <td>0.000000</td>\n",
       "      <td>0.0</td>\n",
       "    </tr>\n",
       "    <tr>\n",
       "      <th>MGH264_A02</th>\n",
       "      <td>0.0</td>\n",
       "      <td>0.000000</td>\n",
       "      <td>0.826908</td>\n",
       "      <td>8.179233</td>\n",
       "      <td>0.000000</td>\n",
       "      <td>3.643079</td>\n",
       "      <td>6.080252</td>\n",
       "      <td>1.721877</td>\n",
       "      <td>8.743318</td>\n",
       "      <td>9.428493</td>\n",
       "      <td>...</td>\n",
       "      <td>5.505911</td>\n",
       "      <td>0.000000</td>\n",
       "      <td>0.000000</td>\n",
       "      <td>0.0</td>\n",
       "      <td>0.000000</td>\n",
       "      <td>0.0</td>\n",
       "      <td>0.000000</td>\n",
       "      <td>5.961101</td>\n",
       "      <td>4.673498</td>\n",
       "      <td>0.0</td>\n",
       "    </tr>\n",
       "    <tr>\n",
       "      <th>MGH264_A03</th>\n",
       "      <td>0.0</td>\n",
       "      <td>0.000000</td>\n",
       "      <td>5.718741</td>\n",
       "      <td>0.000000</td>\n",
       "      <td>0.000000</td>\n",
       "      <td>3.122213</td>\n",
       "      <td>0.000000</td>\n",
       "      <td>0.000000</td>\n",
       "      <td>6.557108</td>\n",
       "      <td>0.000000</td>\n",
       "      <td>...</td>\n",
       "      <td>0.000000</td>\n",
       "      <td>0.000000</td>\n",
       "      <td>8.640176</td>\n",
       "      <td>0.0</td>\n",
       "      <td>0.000000</td>\n",
       "      <td>0.0</td>\n",
       "      <td>3.243285</td>\n",
       "      <td>3.256131</td>\n",
       "      <td>3.243285</td>\n",
       "      <td>0.0</td>\n",
       "    </tr>\n",
       "    <tr>\n",
       "      <th>MGH264_A04</th>\n",
       "      <td>0.0</td>\n",
       "      <td>0.000000</td>\n",
       "      <td>2.319947</td>\n",
       "      <td>9.334512</td>\n",
       "      <td>0.000000</td>\n",
       "      <td>0.000000</td>\n",
       "      <td>6.982978</td>\n",
       "      <td>0.000000</td>\n",
       "      <td>9.479903</td>\n",
       "      <td>0.000000</td>\n",
       "      <td>...</td>\n",
       "      <td>7.046613</td>\n",
       "      <td>6.773274</td>\n",
       "      <td>2.263933</td>\n",
       "      <td>0.0</td>\n",
       "      <td>0.000000</td>\n",
       "      <td>0.0</td>\n",
       "      <td>0.000000</td>\n",
       "      <td>1.536796</td>\n",
       "      <td>0.000000</td>\n",
       "      <td>0.0</td>\n",
       "    </tr>\n",
       "    <tr>\n",
       "      <th>MGH264_A05</th>\n",
       "      <td>0.0</td>\n",
       "      <td>7.632395</td>\n",
       "      <td>1.818624</td>\n",
       "      <td>0.000000</td>\n",
       "      <td>8.136521</td>\n",
       "      <td>7.721043</td>\n",
       "      <td>8.008524</td>\n",
       "      <td>8.373760</td>\n",
       "      <td>9.054301</td>\n",
       "      <td>0.000000</td>\n",
       "      <td>...</td>\n",
       "      <td>0.000000</td>\n",
       "      <td>0.000000</td>\n",
       "      <td>7.447092</td>\n",
       "      <td>0.0</td>\n",
       "      <td>8.572684</td>\n",
       "      <td>0.0</td>\n",
       "      <td>7.659566</td>\n",
       "      <td>3.293084</td>\n",
       "      <td>0.000000</td>\n",
       "      <td>0.0</td>\n",
       "    </tr>\n",
       "  </tbody>\n",
       "</table>\n",
       "<p>5 rows × 5948 columns</p>\n",
       "</div>"
      ],
      "text/plain": [
       "GENE        A2M      AAAS      AAK1      AAMP      AARS    AARSD1     AASDH  \\\n",
       "MGH264_A01  0.0  0.000000  0.000000  8.471800  8.212539  1.148348  7.280847   \n",
       "MGH264_A02  0.0  0.000000  0.826908  8.179233  0.000000  3.643079  6.080252   \n",
       "MGH264_A03  0.0  0.000000  5.718741  0.000000  0.000000  3.122213  0.000000   \n",
       "MGH264_A04  0.0  0.000000  2.319947  9.334512  0.000000  0.000000  6.982978   \n",
       "MGH264_A05  0.0  7.632395  1.818624  0.000000  8.136521  7.721043  8.008524   \n",
       "\n",
       "GENE        AASDHPPT      AASS      AATF  ...   ZSCAN30    ZSWIM6    ZSWIM7  \\\n",
       "MGH264_A01  8.315297  6.301266  6.185458  ...  8.855828  4.730564  0.000000   \n",
       "MGH264_A02  1.721877  8.743318  9.428493  ...  5.505911  0.000000  0.000000   \n",
       "MGH264_A03  0.000000  6.557108  0.000000  ...  0.000000  0.000000  8.640176   \n",
       "MGH264_A04  0.000000  9.479903  0.000000  ...  7.046613  6.773274  2.263933   \n",
       "MGH264_A05  8.373760  9.054301  0.000000  ...  0.000000  0.000000  7.447092   \n",
       "\n",
       "GENE        ZUFSP      ZW10  ZWILCH      ZXDC    ZYG11B       ZYX  ZZZ3  \n",
       "MGH264_A01    0.0  0.000000     0.0  1.148348  6.428980  0.000000   0.0  \n",
       "MGH264_A02    0.0  0.000000     0.0  0.000000  5.961101  4.673498   0.0  \n",
       "MGH264_A03    0.0  0.000000     0.0  3.243285  3.256131  3.243285   0.0  \n",
       "MGH264_A04    0.0  0.000000     0.0  0.000000  1.536796  0.000000   0.0  \n",
       "MGH264_A05    0.0  8.572684     0.0  7.659566  3.293084  0.000000   0.0  \n",
       "\n",
       "[5 rows x 5948 columns]"
      ]
     },
     "execution_count": 9,
     "metadata": {},
     "output_type": "execute_result"
    }
   ],
   "source": [
    "filename = 'Glioblastoma_expressed_genes.txt'\n",
    "data1= pandas.read_table(filename, delimiter='\\t',index_col=0)\n",
    "data=data1.transpose()\n",
    "data.head()"
   ]
  },
  {
   "cell_type": "code",
   "execution_count": 31,
   "id": "2514a9bf",
   "metadata": {},
   "outputs": [
    {
     "data": {
      "text/plain": [
       "Index(['MGH264_A01', 'MGH264_A02', 'MGH264_A03', 'MGH264_A04', 'MGH264_A05',\n",
       "       'MGH264_A06', 'MGH264_A07', 'MGH264_A08', 'MGH264_A10', 'MGH264_A11',\n",
       "       ...\n",
       "       'MGH31_H02', 'MGH31_H04', 'MGH31_H05', 'MGH31_H06', 'MGH31_H07',\n",
       "       'MGH31_H08', 'MGH31_H09', 'MGH31_H10', 'MGH31_H11', 'MGH31_H12'],\n",
       "      dtype='object', length=430)"
      ]
     },
     "execution_count": 31,
     "metadata": {},
     "output_type": "execute_result"
    }
   ],
   "source": []
  },
  {
   "cell_type": "code",
   "execution_count": 21,
   "id": "304acd7e",
   "metadata": {},
   "outputs": [
    {
     "name": "stdout",
     "output_type": "stream",
     "text": [
      "['MGH31', 'MGH30', 'MGH28', 'MGH264', 'MGH26', 'MGH29']\n"
     ]
    }
   ],
   "source": [
    "#list= list(data.index)\n",
    "#list_pacients_id\n",
    "pacients_ids = [element.split('_')[0] for element in data.index.to_list()]\n",
    "pacients_unique_id = list(set(pacients_ids))\n",
    "print(pacients_unique_id)\n",
    "#Unique codes"
   ]
  },
  {
   "cell_type": "markdown",
   "id": "8ac70c8e",
   "metadata": {},
   "source": [
    "%%time \n",
    "data_pca = scprep.reduce.pca(data, n_components=100, method='dense')\n",
    "\n",
    "#data_p = load_digits().data\n",
    "pca = sklearn.cluster.PCA(2)\n",
    "new_position = sklearn.cluster.pca.fit_transform(data)\n",
    "new_position.shape"
   ]
  },
  {
   "cell_type": "markdown",
   "id": "953a38e5",
   "metadata": {},
   "source": [
    "### >>Sklearn PCA"
   ]
  },
  {
   "cell_type": "code",
   "execution_count": 11,
   "id": "867a9b5d",
   "metadata": {},
   "outputs": [
    {
     "data": {
      "text/plain": [
       "PCA(n_components=2)"
      ]
     },
     "execution_count": 11,
     "metadata": {},
     "output_type": "execute_result"
    }
   ],
   "source": [
    "pca= PCA(n_components=2)\n",
    "pca.fit(data)"
   ]
  },
  {
   "cell_type": "code",
   "execution_count": 13,
   "id": "fc48ebde",
   "metadata": {},
   "outputs": [
    {
     "name": "stdout",
     "output_type": "stream",
     "text": [
      "(430, 2)\n"
     ]
    }
   ],
   "source": [
    "transformed = pca.transform(data)\n",
    "print(transformed.shape)\n"
   ]
  },
  {
   "cell_type": "code",
   "execution_count": 67,
   "id": "6809d6f2",
   "metadata": {},
   "outputs": [
    {
     "data": {
      "text/plain": [
       "numpy.ndarray"
      ]
     },
     "execution_count": 67,
     "metadata": {},
     "output_type": "execute_result"
    }
   ],
   "source": [
    "type(transformed)"
   ]
  },
  {
   "cell_type": "code",
   "execution_count": 72,
   "id": "7d1b4106",
   "metadata": {},
   "outputs": [
    {
     "ename": "AttributeError",
     "evalue": "'DataFrame' object has no attribute 'get_index'",
     "output_type": "error",
     "traceback": [
      "\u001b[0;31m---------------------------------------------------------------------------\u001b[0m",
      "\u001b[0;31mAttributeError\u001b[0m                            Traceback (most recent call last)",
      "Input \u001b[0;32mIn [72]\u001b[0m, in \u001b[0;36m<cell line: 1>\u001b[0;34m()\u001b[0m\n\u001b[0;32m----> 1\u001b[0m data[\u001b[43mdata\u001b[49m\u001b[38;5;241;43m.\u001b[39;49m\u001b[43mget_index\u001b[49m(\u001b[38;5;124m\"\u001b[39m\u001b[38;5;124mMGH29\u001b[39m\u001b[38;5;124m\"\u001b[39m)]\n",
      "File \u001b[0;32m~/miniconda3/lib/python3.9/site-packages/pandas/core/generic.py:5575\u001b[0m, in \u001b[0;36mNDFrame.__getattr__\u001b[0;34m(self, name)\u001b[0m\n\u001b[1;32m   5568\u001b[0m \u001b[38;5;28;01mif\u001b[39;00m (\n\u001b[1;32m   5569\u001b[0m     name \u001b[38;5;129;01mnot\u001b[39;00m \u001b[38;5;129;01min\u001b[39;00m \u001b[38;5;28mself\u001b[39m\u001b[38;5;241m.\u001b[39m_internal_names_set\n\u001b[1;32m   5570\u001b[0m     \u001b[38;5;129;01mand\u001b[39;00m name \u001b[38;5;129;01mnot\u001b[39;00m \u001b[38;5;129;01min\u001b[39;00m \u001b[38;5;28mself\u001b[39m\u001b[38;5;241m.\u001b[39m_metadata\n\u001b[1;32m   5571\u001b[0m     \u001b[38;5;129;01mand\u001b[39;00m name \u001b[38;5;129;01mnot\u001b[39;00m \u001b[38;5;129;01min\u001b[39;00m \u001b[38;5;28mself\u001b[39m\u001b[38;5;241m.\u001b[39m_accessors\n\u001b[1;32m   5572\u001b[0m     \u001b[38;5;129;01mand\u001b[39;00m \u001b[38;5;28mself\u001b[39m\u001b[38;5;241m.\u001b[39m_info_axis\u001b[38;5;241m.\u001b[39m_can_hold_identifiers_and_holds_name(name)\n\u001b[1;32m   5573\u001b[0m ):\n\u001b[1;32m   5574\u001b[0m     \u001b[38;5;28;01mreturn\u001b[39;00m \u001b[38;5;28mself\u001b[39m[name]\n\u001b[0;32m-> 5575\u001b[0m \u001b[38;5;28;01mreturn\u001b[39;00m \u001b[38;5;28;43mobject\u001b[39;49m\u001b[38;5;241;43m.\u001b[39;49m\u001b[38;5;21;43m__getattribute__\u001b[39;49m\u001b[43m(\u001b[49m\u001b[38;5;28;43mself\u001b[39;49m\u001b[43m,\u001b[49m\u001b[43m \u001b[49m\u001b[43mname\u001b[49m\u001b[43m)\u001b[49m\n",
      "\u001b[0;31mAttributeError\u001b[0m: 'DataFrame' object has no attribute 'get_index'"
     ]
    }
   ],
   "source": [
    "data[data.get_index(\"MGH29\")]"
   ]
  },
  {
   "cell_type": "code",
   "execution_count": 65,
   "id": "bad5c27d",
   "metadata": {},
   "outputs": [],
   "source": [
    "xs = transformed[:,0]\n",
    "ys = transformed[:,1]\n",
    "#matplotlib.pyplot.scatter(xs, ys, c=c )"
   ]
  },
  {
   "cell_type": "code",
   "execution_count": 104,
   "id": "ab629ed2",
   "metadata": {},
   "outputs": [
    {
     "name": "stderr",
     "output_type": "stream",
     "text": [
      "/Users/lidiayung/miniconda3/lib/python3.9/site-packages/scprep/plot/utils.py:104: UserWarning: Matplotlib is currently using module://matplotlib_inline.backend_inline, which is a non-GUI backend, so cannot show the figure.\n",
      "  fig.show()\n"
     ]
    },
    {
     "data": {
      "text/plain": [
       "<AxesSubplot:xlabel='PCA1', ylabel='PCA2'>"
      ]
     },
     "execution_count": 104,
     "metadata": {},
     "output_type": "execute_result"
    },
    {
     "data": {
      "image/png": "[encoded data removed]",
      "text/plain": [
       "<Figure size 864x486 with 1 Axes>"
      ]
     },
     "metadata": {
      "needs_background": "light"
     },
     "output_type": "display_data"
    }
   ],
   "source": [
    "scprep.plot.scatter2d(data_pca, legend_anchor = (1,1), ticks=True, label_prefix = 'PCA')"
   ]
  },
  {
   "cell_type": "code",
   "execution_count": 16,
   "id": "8fae701d",
   "metadata": {},
   "outputs": [
    {
     "name": "stderr",
     "output_type": "stream",
     "text": [
      "/Users/lidiayung/miniconda3/lib/python3.9/site-packages/sklearn/manifold/_t_sne.py:780: FutureWarning: The default initialization in TSNE will change from 'random' to 'pca' in 1.2.\n",
      "  warnings.warn(\n",
      "/Users/lidiayung/miniconda3/lib/python3.9/site-packages/sklearn/manifold/_t_sne.py:790: FutureWarning: The default learning rate in TSNE will change from 200.0 to 'auto' in 1.2.\n",
      "  warnings.warn(\n"
     ]
    }
   ],
   "source": [
    "import sklearn.manifold \n",
    "tsne_op = sklearn.manifold.TSNE()\n",
    "data_tsne = tsne_op.fit_transform(data)"
   ]
  },
  {
   "cell_type": "code",
   "execution_count": 17,
   "id": "c7a7d90f",
   "metadata": {},
   "outputs": [
    {
     "name": "stderr",
     "output_type": "stream",
     "text": [
      "/Users/lidiayung/miniconda3/lib/python3.9/site-packages/scprep/plot/utils.py:104: UserWarning: Matplotlib is currently using module://matplotlib_inline.backend_inline, which is a non-GUI backend, so cannot show the figure.\n",
      "  fig.show()\n"
     ]
    },
    {
     "data": {
      "text/plain": [
       "<AxesSubplot:xlabel='t-SNE1', ylabel='t-SNE2'>"
      ]
     },
     "execution_count": 17,
     "metadata": {},
     "output_type": "execute_result"
    },
    {
     "data": {
      "image/png": "[encoded data removed]",
      "text/plain": [
       "<Figure size 864x432 with 1 Axes>"
      ]
     },
     "metadata": {},
     "output_type": "display_data"
    }
   ],
   "source": [
    "scprep.plot.scatter2d(data_tsne,\n",
    "                     figsize=the_fig_size, legend_anchor = (1,1),ticks = False, label_prefix = 't-SNE')"
   ]
  },
  {
   "cell_type": "code",
   "execution_count": 83,
   "id": "18986cc1",
   "metadata": {},
   "outputs": [],
   "source": [
    "umap_op = umap.UMAP()\n",
    "data_umap = umap_op.fit_transform(data_pca)"
   ]
  },
  {
   "cell_type": "code",
   "execution_count": 84,
   "id": "a2a1a57b",
   "metadata": {
    "scrolled": true
   },
   "outputs": [
    {
     "name": "stderr",
     "output_type": "stream",
     "text": [
      "/Users/lidiayung/miniconda3/lib/python3.9/site-packages/scprep/plot/utils.py:104: UserWarning: Matplotlib is currently using module://matplotlib_inline.backend_inline, which is a non-GUI backend, so cannot show the figure.\n",
      "  fig.show()\n"
     ]
    },
    {
     "data": {
      "text/plain": [
       "<AxesSubplot:xlabel='UMAP1', ylabel='UMAP2'>"
      ]
     },
     "execution_count": 84,
     "metadata": {},
     "output_type": "execute_result"
    },
    {
     "data": {
      "image/png": "[encoded data removed]",
      "text/plain": [
       "<Figure size 1152x648 with 1 Axes>"
      ]
     },
     "metadata": {},
     "output_type": "display_data"
    }
   ],
   "source": [
    "scprep.plot.scatter2d(data_umap,\n",
    "                     figsize = the_fig_size, legend_anchor = (1,1),ticks = False, label_prefix = 'UMAP')"
   ]
  },
  {
   "cell_type": "code",
   "execution_count": 85,
   "id": "d9626e6f",
   "metadata": {},
   "outputs": [
    {
     "name": "stdout",
     "output_type": "stream",
     "text": [
      "Calculating PHATE...\n",
      "  Running PHATE on 430 observations and 100 variables.\n",
      "  Calculating graph and diffusion operator...\n",
      "    Calculating KNN search...\n",
      "    Calculated KNN search in 0.13 seconds.\n",
      "    Calculating affinities...\n",
      "    Calculated affinities in 0.03 seconds.\n",
      "  Calculated graph and diffusion operator in 0.19 seconds.\n",
      "  Calculating optimal t...\n",
      "    Automatically selected t = 24\n",
      "  Calculated optimal t in 0.31 seconds.\n",
      "  Calculating diffusion potential...\n",
      "  Calculated diffusion potential in 0.12 seconds.\n",
      "  Calculating metric MDS...\n",
      "  Calculated metric MDS in 0.43 seconds.\n",
      "Calculated PHATE in 1.13 seconds.\n",
      "CPU times: user 806 ms, sys: 192 ms, total: 998 ms\n",
      "Wall time: 1.15 s\n"
     ]
    }
   ],
   "source": [
    "%%time\n",
    "\n",
    "phate_op = phate.PHATE(n_jobs=-1)\n",
    "data_phate = phate_op.fit_transform(data_pca)"
   ]
  },
  {
   "cell_type": "code",
   "execution_count": 86,
   "id": "f7cc675d",
   "metadata": {},
   "outputs": [
    {
     "name": "stderr",
     "output_type": "stream",
     "text": [
      "/Users/lidiayung/miniconda3/lib/python3.9/site-packages/scprep/plot/utils.py:104: UserWarning: Matplotlib is currently using module://matplotlib_inline.backend_inline, which is a non-GUI backend, so cannot show the figure.\n",
      "  fig.show()\n"
     ]
    },
    {
     "data": {
      "text/plain": [
       "<AxesSubplot:xlabel='PHATE1', ylabel='PHATE2'>"
      ]
     },
     "execution_count": 86,
     "metadata": {},
     "output_type": "execute_result"
    },
    {
     "data": {
      "image/png": "[encoded data removed]",
      "text/plain": [
       "<Figure size 1152x648 with 1 Axes>"
      ]
     },
     "metadata": {},
     "output_type": "display_data"
    }
   ],
   "source": [
    "scprep.plot.scatter2d(data_phate,\n",
    "                     figsize=the_fig_size, legend_anchor=(1,1), ticks = False, label_prefix='PHATE')"
   ]
  },
  {
   "cell_type": "code",
   "execution_count": 87,
   "id": "508b1b1b",
   "metadata": {},
   "outputs": [
    {
     "name": "stdout",
     "output_type": "stream",
     "text": [
      "Calculating PHATE...\n",
      "  Running PHATE on 430 observations and 100 variables.\n",
      "  Calculating graph and diffusion operator...\n",
      "    Calculating KNN search...\n",
      "    Calculated KNN search in 0.03 seconds.\n",
      "    Calculating affinities...\n",
      "    Calculated affinities in 0.02 seconds.\n",
      "  Calculated graph and diffusion operator in 0.07 seconds.\n",
      "  Calculating diffusion potential...\n",
      "  Calculated diffusion potential in 0.07 seconds.\n",
      "  Calculating metric MDS...\n",
      "  Calculated metric MDS in 0.17 seconds.\n",
      "Calculated PHATE in 0.33 seconds.\n"
     ]
    },
    {
     "name": "stderr",
     "output_type": "stream",
     "text": [
      "/Users/lidiayung/miniconda3/lib/python3.9/site-packages/scprep/plot/utils.py:104: UserWarning: Matplotlib is currently using module://matplotlib_inline.backend_inline, which is a non-GUI backend, so cannot show the figure.\n",
      "  fig.show()\n"
     ]
    },
    {
     "data": {
      "text/plain": [
       "<AxesSubplot:xlabel='PHATE1', ylabel='PHATE2'>"
      ]
     },
     "execution_count": 87,
     "metadata": {},
     "output_type": "execute_result"
    },
    {
     "data": {
      "image/png": "[encoded data removed]",
      "text/plain": [
       "<Figure size 1152x648 with 1 Axes>"
      ]
     },
     "metadata": {},
     "output_type": "display_data"
    }
   ],
   "source": [
    "phate_op = phate.PHATE(knn =3, t=40, gamma=0, n_jobs= -1)\n",
    "data_phate = phate_op.fit_transform(data_pca)\n",
    "scprep.plot.scatter2d(data_phate,\n",
    "                     figsize=the_fig_size, legend_anchor=(1,1), ticks= False, label_prefix='PHATE')"
   ]
  },
  {
   "cell_type": "markdown",
   "id": "15b9a980",
   "metadata": {},
   "source": [
    "##  2. Clustering"
   ]
  },
  {
   "cell_type": "code",
   "execution_count": null,
   "id": "fa964cf1",
   "metadata": {},
   "outputs": [],
   "source": [
    "kmeans = KMeans(n_clusters=3)\n",
    "label = kmeans.fit_predict(new_position)\n",
    "print(label)"
   ]
  },
  {
   "cell_type": "code",
   "execution_count": null,
   "id": "44273d77",
   "metadata": {},
   "outputs": [],
   "source": [
    "import matplotlib.pyplot\n",
    "u_labels = np.unique(label)\n",
    "print(u_labels) \n",
    "#plotting the results:\n",
    "\n",
    "\n",
    "for i in u_labels:\n",
    "    matplotlib.pyplot.scatter(new_position[label == i , 0] , new_position[label == i , 1] , label = i)\n",
    "plt.legend()\n",
    "plt.show()"
   ]
  },
  {
   "cell_type": "code",
   "execution_count": null,
   "id": "1cea039e",
   "metadata": {},
   "outputs": [],
   "source": []
  },
  {
   "cell_type": "code",
   "execution_count": null,
   "id": "70f1c7cd",
   "metadata": {},
   "outputs": [],
   "source": []
  }
 ],
 "metadata": {
  "kernelspec": {
   "display_name": "Python 3 (ipykernel)",
   "language": "python",
   "name": "python3"
  },
  "language_info": {
   "codemirror_mode": {
    "name": "ipython",
    "version": 3
   },
   "file_extension": ".py",
   "mimetype": "text/x-python",
   "name": "python",
   "nbconvert_exporter": "python",
   "pygments_lexer": "ipython3",
   "version": "3.9.7"
  }
 },
 "nbformat": 4,
 "nbformat_minor": 5
}
