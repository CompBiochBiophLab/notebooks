{
 "cells": [
  {
   "cell_type": "markdown",
   "id": "a893e582",
   "metadata": {},
   "source": [
    "## Oligodendrocyte notebook"
   ]
  },
  {
   "cell_type": "code",
   "execution_count": 1,
   "id": "f4c4cd93",
   "metadata": {},
   "outputs": [],
   "source": [
    "import pandas\n",
    "import seaborn\n",
    "import numpy\n",
    "import matplotlib.pyplot\n",
    "import scanpy\n",
    "from sklearn.decomposition import PCA\n",
    "\n",
    "import os\n",
    "import glob\n",
    "import pickle\n",
    "import pandas \n",
    "import numpy \n",
    "\n",
    "from dask.diagnostics import ProgressBar\n",
    "\n",
    "from arboreto.utils import load_tf_names\n",
    "from arboreto.algo import grnboost2\n",
    "\n",
    "from ctxcore.rnkdb import FeatherRankingDatabase \n",
    "from pyscenic.utils import modules_from_adjacencies, load_motifs\n",
    "from pyscenic.prune import prune2df, df2regulons\n",
    "from pyscenic.aucell import aucell"
   ]
  },
  {
   "cell_type": "code",
   "execution_count": 2,
   "id": "91677fc6",
   "metadata": {},
   "outputs": [],
   "source": [
    "matplotlib.rcParams.update({'font.size':20, 'font.family':'sans-serif', \n",
    "                            'xtick.labelsize':30, 'ytick.labelsize':30, 'figure.figsize':(12, 6.75), \n",
    "                            'axes.labelsize':40})"
   ]
  },
  {
   "cell_type": "code",
   "execution_count": 3,
   "id": "d7b8fb75",
   "metadata": {},
   "outputs": [
    {
     "data": {
      "text/plain": [
       "'/Users/lidiayung/github/notebooks/Oligo'"
      ]
     },
     "execution_count": 3,
     "metadata": {},
     "output_type": "execute_result"
    }
   ],
   "source": [
    "pwd"
   ]
  },
  {
   "cell_type": "code",
   "execution_count": 4,
   "id": "e4ef42f1",
   "metadata": {},
   "outputs": [
    {
     "name": "stdout",
     "output_type": "stream",
     "text": [
      "/Users/lidiayung/github/notebooks/Oligo/SCP12/expression\n"
     ]
    }
   ],
   "source": [
    "cd /Users/lidiayung/github/notebooks/oligo/SCP12/expression"
   ]
  },
  {
   "cell_type": "code",
   "execution_count": null,
   "id": "b978ef31",
   "metadata": {},
   "outputs": [],
   "source": [
    "#Input data from \n",
    "## https://singlecell.broadinstitute.org/single_cell/study/SCP12/oligodendroglioma-intra-tumor-heterogeneity\n",
    "#! curl \"https://singlecell.broadinstitute.org/single_cell/api/v1/bulk_download/generate_curl_config?accessions=SCP12&auth_code=vECFXlfo&directory=all&context=study\"  -o cfg.txt; curl -K cfg.txt && rm cfg.txt"
   ]
  },
  {
   "cell_type": "code",
   "execution_count": 5,
   "id": "50f91066",
   "metadata": {},
   "outputs": [
    {
     "data": {
      "text/html": [
       "<div>\n",
       "<style scoped>\n",
       "    .dataframe tbody tr th:only-of-type {\n",
       "        vertical-align: middle;\n",
       "    }\n",
       "\n",
       "    .dataframe tbody tr th {\n",
       "        vertical-align: top;\n",
       "    }\n",
       "\n",
       "    .dataframe thead th {\n",
       "        text-align: right;\n",
       "    }\n",
       "</style>\n",
       "<table border=\"1\" class=\"dataframe\">\n",
       "  <thead>\n",
       "    <tr style=\"text-align: right;\">\n",
       "      <th>GENE</th>\n",
       "      <th>A1BG</th>\n",
       "      <th>A1BG-AS1</th>\n",
       "      <th>A1CF</th>\n",
       "      <th>A2M</th>\n",
       "      <th>A2M-AS1</th>\n",
       "      <th>A2ML1</th>\n",
       "      <th>A2MP1</th>\n",
       "      <th>A4GALT</th>\n",
       "      <th>A4GNT</th>\n",
       "      <th>AA06</th>\n",
       "      <th>...</th>\n",
       "      <th>ZWILCH</th>\n",
       "      <th>ZWINT</th>\n",
       "      <th>ZXDA</th>\n",
       "      <th>ZXDB</th>\n",
       "      <th>ZXDC</th>\n",
       "      <th>ZYG11A</th>\n",
       "      <th>ZYG11B</th>\n",
       "      <th>ZYX</th>\n",
       "      <th>ZZEF1</th>\n",
       "      <th>ZZZ3</th>\n",
       "    </tr>\n",
       "  </thead>\n",
       "  <tbody>\n",
       "    <tr>\n",
       "      <th>MGH36_P6_A12</th>\n",
       "      <td>0.0</td>\n",
       "      <td>0.0</td>\n",
       "      <td>0.00000</td>\n",
       "      <td>5.7056</td>\n",
       "      <td>0.0000</td>\n",
       "      <td>0.00000</td>\n",
       "      <td>0.0</td>\n",
       "      <td>0.0</td>\n",
       "      <td>0.0</td>\n",
       "      <td>0.0</td>\n",
       "      <td>...</td>\n",
       "      <td>0.0</td>\n",
       "      <td>0.0</td>\n",
       "      <td>0.0</td>\n",
       "      <td>0.0</td>\n",
       "      <td>0.53506</td>\n",
       "      <td>0.35163</td>\n",
       "      <td>0.00000</td>\n",
       "      <td>1.3618</td>\n",
       "      <td>1.599800</td>\n",
       "      <td>0.0</td>\n",
       "    </tr>\n",
       "    <tr>\n",
       "      <th>MGH36_P6_H09</th>\n",
       "      <td>0.0</td>\n",
       "      <td>0.0</td>\n",
       "      <td>0.00000</td>\n",
       "      <td>4.4370</td>\n",
       "      <td>0.0000</td>\n",
       "      <td>0.00000</td>\n",
       "      <td>0.0</td>\n",
       "      <td>0.0</td>\n",
       "      <td>0.0</td>\n",
       "      <td>0.0</td>\n",
       "      <td>...</td>\n",
       "      <td>0.0</td>\n",
       "      <td>0.0</td>\n",
       "      <td>0.0</td>\n",
       "      <td>0.0</td>\n",
       "      <td>0.14535</td>\n",
       "      <td>0.00000</td>\n",
       "      <td>2.21850</td>\n",
       "      <td>3.2621</td>\n",
       "      <td>0.000000</td>\n",
       "      <td>0.0</td>\n",
       "    </tr>\n",
       "    <tr>\n",
       "      <th>MGH53_P4_G04</th>\n",
       "      <td>0.0</td>\n",
       "      <td>0.0</td>\n",
       "      <td>0.00000</td>\n",
       "      <td>8.0276</td>\n",
       "      <td>4.5347</td>\n",
       "      <td>0.32077</td>\n",
       "      <td>0.0</td>\n",
       "      <td>0.0</td>\n",
       "      <td>0.0</td>\n",
       "      <td>0.0</td>\n",
       "      <td>...</td>\n",
       "      <td>0.0</td>\n",
       "      <td>0.0</td>\n",
       "      <td>0.0</td>\n",
       "      <td>0.0</td>\n",
       "      <td>2.77740</td>\n",
       "      <td>0.70752</td>\n",
       "      <td>0.84398</td>\n",
       "      <td>0.0000</td>\n",
       "      <td>0.000000</td>\n",
       "      <td>0.0</td>\n",
       "    </tr>\n",
       "    <tr>\n",
       "      <th>MGH36_P10_G12</th>\n",
       "      <td>0.0</td>\n",
       "      <td>0.0</td>\n",
       "      <td>0.00000</td>\n",
       "      <td>5.6288</td>\n",
       "      <td>0.0000</td>\n",
       "      <td>0.00000</td>\n",
       "      <td>0.0</td>\n",
       "      <td>0.0</td>\n",
       "      <td>0.0</td>\n",
       "      <td>0.0</td>\n",
       "      <td>...</td>\n",
       "      <td>0.0</td>\n",
       "      <td>0.0</td>\n",
       "      <td>0.0</td>\n",
       "      <td>0.0</td>\n",
       "      <td>1.11700</td>\n",
       "      <td>0.00000</td>\n",
       "      <td>1.22590</td>\n",
       "      <td>0.0000</td>\n",
       "      <td>0.269030</td>\n",
       "      <td>0.0</td>\n",
       "    </tr>\n",
       "    <tr>\n",
       "      <th>MGH53_P2_H12</th>\n",
       "      <td>0.0</td>\n",
       "      <td>0.0</td>\n",
       "      <td>0.02148</td>\n",
       "      <td>0.0000</td>\n",
       "      <td>0.0000</td>\n",
       "      <td>0.00000</td>\n",
       "      <td>0.0</td>\n",
       "      <td>0.0</td>\n",
       "      <td>0.0</td>\n",
       "      <td>0.0</td>\n",
       "      <td>...</td>\n",
       "      <td>0.0</td>\n",
       "      <td>0.0</td>\n",
       "      <td>0.0</td>\n",
       "      <td>0.0</td>\n",
       "      <td>0.12168</td>\n",
       "      <td>0.22157</td>\n",
       "      <td>0.14405</td>\n",
       "      <td>4.9809</td>\n",
       "      <td>0.035624</td>\n",
       "      <td>0.0</td>\n",
       "    </tr>\n",
       "  </tbody>\n",
       "</table>\n",
       "<p>5 rows × 23686 columns</p>\n",
       "</div>"
      ],
      "text/plain": [
       "GENE           A1BG  A1BG-AS1     A1CF     A2M  A2M-AS1    A2ML1  A2MP1  \\\n",
       "MGH36_P6_A12    0.0       0.0  0.00000  5.7056   0.0000  0.00000    0.0   \n",
       "MGH36_P6_H09    0.0       0.0  0.00000  4.4370   0.0000  0.00000    0.0   \n",
       "MGH53_P4_G04    0.0       0.0  0.00000  8.0276   4.5347  0.32077    0.0   \n",
       "MGH36_P10_G12   0.0       0.0  0.00000  5.6288   0.0000  0.00000    0.0   \n",
       "MGH53_P2_H12    0.0       0.0  0.02148  0.0000   0.0000  0.00000    0.0   \n",
       "\n",
       "GENE           A4GALT  A4GNT  AA06  ...  ZWILCH  ZWINT  ZXDA  ZXDB     ZXDC  \\\n",
       "MGH36_P6_A12      0.0    0.0   0.0  ...     0.0    0.0   0.0   0.0  0.53506   \n",
       "MGH36_P6_H09      0.0    0.0   0.0  ...     0.0    0.0   0.0   0.0  0.14535   \n",
       "MGH53_P4_G04      0.0    0.0   0.0  ...     0.0    0.0   0.0   0.0  2.77740   \n",
       "MGH36_P10_G12     0.0    0.0   0.0  ...     0.0    0.0   0.0   0.0  1.11700   \n",
       "MGH53_P2_H12      0.0    0.0   0.0  ...     0.0    0.0   0.0   0.0  0.12168   \n",
       "\n",
       "GENE            ZYG11A   ZYG11B     ZYX     ZZEF1  ZZZ3  \n",
       "MGH36_P6_A12   0.35163  0.00000  1.3618  1.599800   0.0  \n",
       "MGH36_P6_H09   0.00000  2.21850  3.2621  0.000000   0.0  \n",
       "MGH53_P4_G04   0.70752  0.84398  0.0000  0.000000   0.0  \n",
       "MGH36_P10_G12  0.00000  1.22590  0.0000  0.269030   0.0  \n",
       "MGH53_P2_H12   0.22157  0.14405  4.9809  0.035624   0.0  \n",
       "\n",
       "[5 rows x 23686 columns]"
      ]
     },
     "execution_count": 5,
     "metadata": {},
     "output_type": "execute_result"
    }
   ],
   "source": [
    "filename = 'OG_processed_data_portal.txt'\n",
    "data1 = pandas.read_table(filename, delimiter='\\t', header=0,index_col=0)\n",
    "data = data1.transpose()\n",
    "data.head()"
   ]
  },
  {
   "cell_type": "code",
   "execution_count": 6,
   "id": "9db7d574",
   "metadata": {},
   "outputs": [
    {
     "name": "stdout",
     "output_type": "stream",
     "text": [
      "Index(['MGH36_P6_A12', 'MGH36_P6_H09', 'MGH53_P4_G04', 'MGH36_P10_G12',\n",
      "       'MGH53_P2_H12', 'MGH53_P4_D10', 'MGH53_P4_D01', 'MGH36_P6_B07',\n",
      "       'MGH36_P10_B12', 'MGH53_P2_G11',\n",
      "       ...\n",
      "       '93_P10_H06', '93_P8_B12', '93_P8_D09', '93_P9_D11', '93_P10_G08',\n",
      "       '93_P8_H06', '93_P9_C07', '93_P8_A12', '93_P8_C01', '93_P9_F06'],\n",
      "      dtype='object', length=4347)\n"
     ]
    }
   ],
   "source": [
    "print(data.index)"
   ]
  },
  {
   "cell_type": "code",
   "execution_count": 7,
   "id": "6a94276d",
   "metadata": {},
   "outputs": [
    {
     "data": {
      "text/plain": [
       "Index(['A1BG', 'A1BG-AS1', 'A1CF', 'A2M', 'A2M-AS1', 'A2ML1', 'A2MP1',\n",
       "       'A4GALT', 'A4GNT', 'AA06',\n",
       "       ...\n",
       "       'ZWILCH', 'ZWINT', 'ZXDA', 'ZXDB', 'ZXDC', 'ZYG11A', 'ZYG11B', 'ZYX',\n",
       "       'ZZEF1', 'ZZZ3'],\n",
       "      dtype='object', name='GENE', length=23686)"
      ]
     },
     "execution_count": 7,
     "metadata": {},
     "output_type": "execute_result"
    }
   ],
   "source": [
    "data.columns"
   ]
  },
  {
   "cell_type": "code",
   "execution_count": 8,
   "id": "47c0550b",
   "metadata": {},
   "outputs": [
    {
     "data": {
      "text/plain": [
       "(4347, 23686)"
      ]
     },
     "execution_count": 8,
     "metadata": {},
     "output_type": "execute_result"
    }
   ],
   "source": [
    "data.shape"
   ]
  },
  {
   "cell_type": "code",
   "execution_count": 9,
   "id": "7534e62d",
   "metadata": {},
   "outputs": [
    {
     "name": "stdout",
     "output_type": "stream",
     "text": [
      "['97', 'MGH53', 'MGH97', 'MGH93', '93', 'MGH54', 'MGH36', 'MGH60']\n"
     ]
    }
   ],
   "source": [
    "pacients_ids = [element.split('_')[0] for element in data.index.to_list()]\n",
    "pacients_unique_id = list(set(pacients_ids))\n",
    "print(pacients_unique_id)\n",
    "#MGH36,53,54 deeper analysis"
   ]
  },
  {
   "cell_type": "code",
   "execution_count": 10,
   "id": "25a0a674",
   "metadata": {},
   "outputs": [],
   "source": [
    "test = [element.split('_')[0] for element in data.index.to_list()]"
   ]
  },
  {
   "cell_type": "code",
   "execution_count": 11,
   "id": "2e00e28a",
   "metadata": {},
   "outputs": [],
   "source": [
    "patients= []\n",
    "for i in test:\n",
    "    if 'MGH' in i:\n",
    "        i = i\n",
    "    else:\n",
    "        i='MGH' +i\n",
    "    patients.append(i)"
   ]
  },
  {
   "cell_type": "code",
   "execution_count": 12,
   "id": "200770e6",
   "metadata": {},
   "outputs": [
    {
     "data": {
      "text/plain": [
       "['MGH53', 'MGH97', 'MGH93', 'MGH54', 'MGH36', 'MGH60']"
      ]
     },
     "execution_count": 12,
     "metadata": {},
     "output_type": "execute_result"
    }
   ],
   "source": [
    "pacients_uid = list(set(patients))\n",
    "pacients_uid"
   ]
  },
  {
   "cell_type": "code",
   "execution_count": 18,
   "id": "f160352b",
   "metadata": {},
   "outputs": [
    {
     "name": "stdout",
     "output_type": "stream",
     "text": [
      "<class 'pandas.core.frame.DataFrame'>\n",
      "Index: 4347 entries, MGH36_P6_A12 to 93_P9_F06\n",
      "Columns: 23686 entries, A1BG to ZZZ3\n",
      "dtypes: float64(23686)\n",
      "memory usage: 785.6+ MB\n"
     ]
    }
   ],
   "source": [
    "data.info()"
   ]
  },
  {
   "cell_type": "code",
   "execution_count": null,
   "id": "27d2a0e5",
   "metadata": {},
   "outputs": [],
   "source": []
  },
  {
   "cell_type": "markdown",
   "id": "5650ad67",
   "metadata": {},
   "source": [
    "join datasets"
   ]
  },
  {
   "cell_type": "code",
   "execution_count": null,
   "id": "d1557090",
   "metadata": {},
   "outputs": [],
   "source": [
    "DATABASES_GLOB = os.path.join(\"hg38_10kbp_up_10kbp_down_full_tx_v10_clust.genes_vs_motifs.rankings.feather\")\n",
    "MOTIFS_HGNC_FNAME = os.path.join('motifs-v9-nr.hgnc-m0.001-o0.0.tbl')\n",
    "CURATED_TFS_HGNC_FNAME = os.path.join('lambert2018.txt')\n",
    "\n",
    "OUT_TFS_HGNC_FNAME = os.path.join('hs_hgnc_tfs.txt')\n",
    "OUT_TFS_HGNC_FNAME = os.path.join('hs_hgnc_curated_tfs.txt')"
   ]
  },
  {
   "cell_type": "code",
   "execution_count": null,
   "id": "75d22bf8",
   "metadata": {},
   "outputs": [],
   "source": [
    "ADJACENCIES_FNAME = os.path.join(\"adjacencies.tsv\")\n",
    "MODULES_FNAME = os.path.join(\"modules.p\")\n",
    "MOTIFS_FNAME = os.path.join(\"motifs.csv\")\n",
    "REGULONS_FNAME = os.path.join(\"regulons.p\")"
   ]
  },
  {
   "cell_type": "code",
   "execution_count": null,
   "id": "91733443",
   "metadata": {},
   "outputs": [],
   "source": [
    "db_fnames = glob.glob(DATABASES_GLOB)\n",
    "def name(fname):\n",
    "    return os.path.splitext(os.path.basename(fname))[0]\n",
    "dbs = [FeatherRankingDatabase(fname=fname, name=name(fname)) for fname in db_fnames]\n",
    "dbs"
   ]
  },
  {
   "cell_type": "code",
   "execution_count": null,
   "id": "20ffb910",
   "metadata": {},
   "outputs": [],
   "source": [
    "cd /Users/lidiayung/github/notebooks"
   ]
  },
  {
   "cell_type": "code",
   "execution_count": null,
   "id": "0da2efc8",
   "metadata": {},
   "outputs": [],
   "source": [
    "df_motifs_hgnc = pandas.read_csv(MOTIFS_HGNC_FNAME, sep='\\t')\n",
    "hs_tfs = df_motifs_hgnc.gene_name.unique()\n",
    "with open(OUT_TFS_HGNC_FNAME, 'wt') as f:\n",
    "    f.write('\\n'.join(hs_tfs) + '\\n')\n",
    "len(hs_tfs)"
   ]
  },
  {
   "cell_type": "code",
   "execution_count": null,
   "id": "f16eb406",
   "metadata": {},
   "outputs": [],
   "source": [
    "with open(CURATED_TFS_HGNC_FNAME, 'rt') as f:\n",
    "    hs_curated_tfs = list(map(lambda s: s.strip(), f.readlines()))\n",
    "len(hs_curated_tfs)"
   ]
  },
  {
   "cell_type": "code",
   "execution_count": null,
   "id": "4c893578",
   "metadata": {},
   "outputs": [],
   "source": [
    "hs_curated_tfs_with_motif = list(set(hs_tfs).intersection(hs_curated_tfs))\n",
    "len(hs_curated_tfs_with_motif)"
   ]
  },
  {
   "cell_type": "code",
   "execution_count": null,
   "id": "2f398135",
   "metadata": {},
   "outputs": [],
   "source": [
    "with open(OUT_TFS_HGNC_FNAME, 'wt') as f:\n",
    "    f.write('\\n'.join(hs_curated_tfs_with_motif) + '\\n')"
   ]
  },
  {
   "cell_type": "code",
   "execution_count": null,
   "id": "af1501dc",
   "metadata": {},
   "outputs": [],
   "source": [
    "gene_names= list(data.columns)\n",
    "tf_names = load_tf_names(MOTIFS_HGNC_FNAME)"
   ]
  },
  {
   "cell_type": "code",
   "execution_count": null,
   "id": "a67e8488",
   "metadata": {},
   "outputs": [],
   "source": [
    "type(tf_names)"
   ]
  },
  {
   "cell_type": "markdown",
   "id": "61149a36",
   "metadata": {},
   "source": [
    "Phase I: Inference of co-expression modules"
   ]
  },
  {
   "cell_type": "code",
   "execution_count": null,
   "id": "4c04a559",
   "metadata": {},
   "outputs": [],
   "source": [
    "adjancencies = grnboost2(expression_data=data,gene_names=gene_names ,tf_names=hs_curated_tfs, verbose=True)"
   ]
  },
  {
   "cell_type": "code",
   "execution_count": null,
   "id": "2348b3ba",
   "metadata": {},
   "outputs": [],
   "source": [
    "adjancencies.head()"
   ]
  },
  {
   "cell_type": "code",
   "execution_count": null,
   "id": "221d316b",
   "metadata": {},
   "outputs": [],
   "source": [
    "adjancencies.shape"
   ]
  },
  {
   "cell_type": "code",
   "execution_count": null,
   "id": "50cdc06c",
   "metadata": {},
   "outputs": [],
   "source": [
    "adjancencies.to_csv(ADJACENCIES_FNAME, index=False, sep='\\t')\n",
    "adjacencies = pandas.read_csv(ADJACENCIES_FNAME, sep='\\t')"
   ]
  },
  {
   "cell_type": "code",
   "execution_count": null,
   "id": "0467517b",
   "metadata": {},
   "outputs": [],
   "source": [
    "modules_og = list(modules_from_adjacencies(adjacencies, data))"
   ]
  },
  {
   "cell_type": "code",
   "execution_count": null,
   "id": "d0975b94",
   "metadata": {},
   "outputs": [],
   "source": [
    "with open(MODULES_FNAME, 'wb') as f:\n",
    "    pickle.dump(modules_og, f)"
   ]
  },
  {
   "cell_type": "code",
   "execution_count": null,
   "id": "abbda1a1",
   "metadata": {},
   "outputs": [],
   "source": [
    "df = prune2df(dbs, modules_og, MOTIFS_HGNC_FNAME)\n",
    "df.head()"
   ]
  },
  {
   "cell_type": "code",
   "execution_count": null,
   "id": "be46fa50",
   "metadata": {},
   "outputs": [],
   "source": [
    "regulons = df2regulons(df)"
   ]
  },
  {
   "cell_type": "code",
   "execution_count": null,
   "id": "2d16a367",
   "metadata": {},
   "outputs": [],
   "source": []
  },
  {
   "cell_type": "code",
   "execution_count": null,
   "id": "f0ac134a",
   "metadata": {},
   "outputs": [],
   "source": []
  },
  {
   "cell_type": "code",
   "execution_count": null,
   "id": "9a5afb24",
   "metadata": {},
   "outputs": [],
   "source": []
  },
  {
   "cell_type": "markdown",
   "id": "bd69541c",
   "metadata": {},
   "source": [
    "Groups"
   ]
  },
  {
   "cell_type": "code",
   "execution_count": null,
   "id": "53439361",
   "metadata": {},
   "outputs": [],
   "source": [
    "df_MGH36 = data.filter(like='MGH36',axis=0)\n",
    "df_MGH36.shape\n",
    "#print(df_MGH36.index.to_list())"
   ]
  },
  {
   "cell_type": "code",
   "execution_count": null,
   "id": "0c210a87",
   "metadata": {},
   "outputs": [],
   "source": [
    "df_MGH53 = data.filter(like='MGH53',axis=0)\n",
    "df_MGH53.shape"
   ]
  },
  {
   "cell_type": "code",
   "execution_count": null,
   "id": "41673b93",
   "metadata": {},
   "outputs": [],
   "source": [
    "df_MGH54 = data.filter(like='MGH54',axis=0)\n",
    "df_MGH54.shape"
   ]
  },
  {
   "cell_type": "code",
   "execution_count": null,
   "id": "93076511",
   "metadata": {},
   "outputs": [],
   "source": [
    "scanpy.pp.filter_cells(df_MGH36, min_genes=0)"
   ]
  },
  {
   "cell_type": "code",
   "execution_count": null,
   "id": "99059df9",
   "metadata": {},
   "outputs": [],
   "source": [
    "overall_expression = numpy.sum(df_MGH36, axis=0)\n",
    "sorted = overall_expression.sort_values(ascending=False, inplace=True)\n",
    "overall_expression.head(10)"
   ]
  },
  {
   "cell_type": "code",
   "execution_count": null,
   "id": "4d141027",
   "metadata": {},
   "outputs": [],
   "source": [
    "overall_expression.tail()"
   ]
  },
  {
   "cell_type": "code",
   "execution_count": null,
   "id": "6d9f0911",
   "metadata": {},
   "outputs": [],
   "source": [
    "#set_xlabel(\"log2(TPM/10 + 1)\")\n",
    "seaborn.displot(overall_expression, kde=True,stat=\"density\",rug=True)\n",
    "matplotlib.pyplot.show()"
   ]
  },
  {
   "cell_type": "code",
   "execution_count": null,
   "id": "348f1267",
   "metadata": {},
   "outputs": [],
   "source": [
    "#for column in columns_ls:\n",
    "#    y = data[column].mean()\n",
    "#    data[column].fillna(y,inplace=False)\n",
    "#print(data.shape)"
   ]
  },
  {
   "cell_type": "code",
   "execution_count": null,
   "id": "a85f554d",
   "metadata": {},
   "outputs": [],
   "source": [
    "data_full.shape"
   ]
  },
  {
   "cell_type": "code",
   "execution_count": null,
   "id": "153c3174",
   "metadata": {},
   "outputs": [],
   "source": [
    "data['A1BG']\n",
    "#A2Mavg=A2mmean.mean()\n",
    "#print(A2Mavg)"
   ]
  },
  {
   "cell_type": "markdown",
   "id": "0bb6c8fd",
   "metadata": {},
   "source": [
    "### t-SNE"
   ]
  },
  {
   "cell_type": "code",
   "execution_count": null,
   "id": "8a719eb5",
   "metadata": {},
   "outputs": [],
   "source": [
    "filtered_df = data[data.isnull()]\n",
    "filtered_df.shape"
   ]
  },
  {
   "cell_type": "code",
   "execution_count": null,
   "id": "7383dbe3",
   "metadata": {},
   "outputs": [],
   "source": [
    "data_full.head()"
   ]
  },
  {
   "cell_type": "code",
   "execution_count": 14,
   "id": "3b253a3c",
   "metadata": {},
   "outputs": [
    {
     "ename": "ValueError",
     "evalue": "Input contains NaN, infinity or a value too large for dtype('float64').",
     "output_type": "error",
     "traceback": [
      "\u001b[0;31m---------------------------------------------------------------------------\u001b[0m",
      "\u001b[0;31mValueError\u001b[0m                                Traceback (most recent call last)",
      "Input \u001b[0;32mIn [14]\u001b[0m, in \u001b[0;36m<cell line: 2>\u001b[0;34m()\u001b[0m\n\u001b[1;32m      1\u001b[0m pca\u001b[38;5;241m=\u001b[39m PCA(n_components\u001b[38;5;241m=\u001b[39m\u001b[38;5;241m5\u001b[39m)\n\u001b[0;32m----> 2\u001b[0m \u001b[43mpca\u001b[49m\u001b[38;5;241;43m.\u001b[39;49m\u001b[43mfit\u001b[49m\u001b[43m(\u001b[49m\u001b[43mdata\u001b[49m\u001b[43m)\u001b[49m\n",
      "File \u001b[0;32m~/miniconda3/lib/python3.9/site-packages/sklearn/decomposition/_pca.py:382\u001b[0m, in \u001b[0;36mPCA.fit\u001b[0;34m(self, X, y)\u001b[0m\n\u001b[1;32m    365\u001b[0m \u001b[38;5;28;01mdef\u001b[39;00m \u001b[38;5;21mfit\u001b[39m(\u001b[38;5;28mself\u001b[39m, X, y\u001b[38;5;241m=\u001b[39m\u001b[38;5;28;01mNone\u001b[39;00m):\n\u001b[1;32m    366\u001b[0m     \u001b[38;5;124;03m\"\"\"Fit the model with X.\u001b[39;00m\n\u001b[1;32m    367\u001b[0m \n\u001b[1;32m    368\u001b[0m \u001b[38;5;124;03m    Parameters\u001b[39;00m\n\u001b[0;32m   (...)\u001b[0m\n\u001b[1;32m    380\u001b[0m \u001b[38;5;124;03m        Returns the instance itself.\u001b[39;00m\n\u001b[1;32m    381\u001b[0m \u001b[38;5;124;03m    \"\"\"\u001b[39;00m\n\u001b[0;32m--> 382\u001b[0m     \u001b[38;5;28;43mself\u001b[39;49m\u001b[38;5;241;43m.\u001b[39;49m\u001b[43m_fit\u001b[49m\u001b[43m(\u001b[49m\u001b[43mX\u001b[49m\u001b[43m)\u001b[49m\n\u001b[1;32m    383\u001b[0m     \u001b[38;5;28;01mreturn\u001b[39;00m \u001b[38;5;28mself\u001b[39m\n",
      "File \u001b[0;32m~/miniconda3/lib/python3.9/site-packages/sklearn/decomposition/_pca.py:430\u001b[0m, in \u001b[0;36mPCA._fit\u001b[0;34m(self, X)\u001b[0m\n\u001b[1;32m    424\u001b[0m \u001b[38;5;28;01mif\u001b[39;00m issparse(X):\n\u001b[1;32m    425\u001b[0m     \u001b[38;5;28;01mraise\u001b[39;00m \u001b[38;5;167;01mTypeError\u001b[39;00m(\n\u001b[1;32m    426\u001b[0m         \u001b[38;5;124m\"\u001b[39m\u001b[38;5;124mPCA does not support sparse input. See \u001b[39m\u001b[38;5;124m\"\u001b[39m\n\u001b[1;32m    427\u001b[0m         \u001b[38;5;124m\"\u001b[39m\u001b[38;5;124mTruncatedSVD for a possible alternative.\u001b[39m\u001b[38;5;124m\"\u001b[39m\n\u001b[1;32m    428\u001b[0m     )\n\u001b[0;32m--> 430\u001b[0m X \u001b[38;5;241m=\u001b[39m \u001b[38;5;28;43mself\u001b[39;49m\u001b[38;5;241;43m.\u001b[39;49m\u001b[43m_validate_data\u001b[49m\u001b[43m(\u001b[49m\n\u001b[1;32m    431\u001b[0m \u001b[43m    \u001b[49m\u001b[43mX\u001b[49m\u001b[43m,\u001b[49m\u001b[43m \u001b[49m\u001b[43mdtype\u001b[49m\u001b[38;5;241;43m=\u001b[39;49m\u001b[43m[\u001b[49m\u001b[43mnp\u001b[49m\u001b[38;5;241;43m.\u001b[39;49m\u001b[43mfloat64\u001b[49m\u001b[43m,\u001b[49m\u001b[43m \u001b[49m\u001b[43mnp\u001b[49m\u001b[38;5;241;43m.\u001b[39;49m\u001b[43mfloat32\u001b[49m\u001b[43m]\u001b[49m\u001b[43m,\u001b[49m\u001b[43m \u001b[49m\u001b[43mensure_2d\u001b[49m\u001b[38;5;241;43m=\u001b[39;49m\u001b[38;5;28;43;01mTrue\u001b[39;49;00m\u001b[43m,\u001b[49m\u001b[43m \u001b[49m\u001b[43mcopy\u001b[49m\u001b[38;5;241;43m=\u001b[39;49m\u001b[38;5;28;43mself\u001b[39;49m\u001b[38;5;241;43m.\u001b[39;49m\u001b[43mcopy\u001b[49m\n\u001b[1;32m    432\u001b[0m \u001b[43m\u001b[49m\u001b[43m)\u001b[49m\n\u001b[1;32m    434\u001b[0m \u001b[38;5;66;03m# Handle n_components==None\u001b[39;00m\n\u001b[1;32m    435\u001b[0m \u001b[38;5;28;01mif\u001b[39;00m \u001b[38;5;28mself\u001b[39m\u001b[38;5;241m.\u001b[39mn_components \u001b[38;5;129;01mis\u001b[39;00m \u001b[38;5;28;01mNone\u001b[39;00m:\n",
      "File \u001b[0;32m~/miniconda3/lib/python3.9/site-packages/sklearn/base.py:566\u001b[0m, in \u001b[0;36mBaseEstimator._validate_data\u001b[0;34m(self, X, y, reset, validate_separately, **check_params)\u001b[0m\n\u001b[1;32m    564\u001b[0m     \u001b[38;5;28;01mraise\u001b[39;00m \u001b[38;5;167;01mValueError\u001b[39;00m(\u001b[38;5;124m\"\u001b[39m\u001b[38;5;124mValidation should be done on X, y or both.\u001b[39m\u001b[38;5;124m\"\u001b[39m)\n\u001b[1;32m    565\u001b[0m \u001b[38;5;28;01melif\u001b[39;00m \u001b[38;5;129;01mnot\u001b[39;00m no_val_X \u001b[38;5;129;01mand\u001b[39;00m no_val_y:\n\u001b[0;32m--> 566\u001b[0m     X \u001b[38;5;241m=\u001b[39m \u001b[43mcheck_array\u001b[49m\u001b[43m(\u001b[49m\u001b[43mX\u001b[49m\u001b[43m,\u001b[49m\u001b[43m \u001b[49m\u001b[38;5;241;43m*\u001b[39;49m\u001b[38;5;241;43m*\u001b[39;49m\u001b[43mcheck_params\u001b[49m\u001b[43m)\u001b[49m\n\u001b[1;32m    567\u001b[0m     out \u001b[38;5;241m=\u001b[39m X\n\u001b[1;32m    568\u001b[0m \u001b[38;5;28;01melif\u001b[39;00m no_val_X \u001b[38;5;129;01mand\u001b[39;00m \u001b[38;5;129;01mnot\u001b[39;00m no_val_y:\n",
      "File \u001b[0;32m~/miniconda3/lib/python3.9/site-packages/sklearn/utils/validation.py:800\u001b[0m, in \u001b[0;36mcheck_array\u001b[0;34m(array, accept_sparse, accept_large_sparse, dtype, order, copy, force_all_finite, ensure_2d, allow_nd, ensure_min_samples, ensure_min_features, estimator)\u001b[0m\n\u001b[1;32m    794\u001b[0m         \u001b[38;5;28;01mraise\u001b[39;00m \u001b[38;5;167;01mValueError\u001b[39;00m(\n\u001b[1;32m    795\u001b[0m             \u001b[38;5;124m\"\u001b[39m\u001b[38;5;124mFound array with dim \u001b[39m\u001b[38;5;132;01m%d\u001b[39;00m\u001b[38;5;124m. \u001b[39m\u001b[38;5;132;01m%s\u001b[39;00m\u001b[38;5;124m expected <= 2.\u001b[39m\u001b[38;5;124m\"\u001b[39m\n\u001b[1;32m    796\u001b[0m             \u001b[38;5;241m%\u001b[39m (array\u001b[38;5;241m.\u001b[39mndim, estimator_name)\n\u001b[1;32m    797\u001b[0m         )\n\u001b[1;32m    799\u001b[0m     \u001b[38;5;28;01mif\u001b[39;00m force_all_finite:\n\u001b[0;32m--> 800\u001b[0m         \u001b[43m_assert_all_finite\u001b[49m\u001b[43m(\u001b[49m\u001b[43marray\u001b[49m\u001b[43m,\u001b[49m\u001b[43m \u001b[49m\u001b[43mallow_nan\u001b[49m\u001b[38;5;241;43m=\u001b[39;49m\u001b[43mforce_all_finite\u001b[49m\u001b[43m \u001b[49m\u001b[38;5;241;43m==\u001b[39;49m\u001b[43m \u001b[49m\u001b[38;5;124;43m\"\u001b[39;49m\u001b[38;5;124;43mallow-nan\u001b[39;49m\u001b[38;5;124;43m\"\u001b[39;49m\u001b[43m)\u001b[49m\n\u001b[1;32m    802\u001b[0m \u001b[38;5;28;01mif\u001b[39;00m ensure_min_samples \u001b[38;5;241m>\u001b[39m \u001b[38;5;241m0\u001b[39m:\n\u001b[1;32m    803\u001b[0m     n_samples \u001b[38;5;241m=\u001b[39m _num_samples(array)\n",
      "File \u001b[0;32m~/miniconda3/lib/python3.9/site-packages/sklearn/utils/validation.py:114\u001b[0m, in \u001b[0;36m_assert_all_finite\u001b[0;34m(X, allow_nan, msg_dtype)\u001b[0m\n\u001b[1;32m    107\u001b[0m     \u001b[38;5;28;01mif\u001b[39;00m (\n\u001b[1;32m    108\u001b[0m         allow_nan\n\u001b[1;32m    109\u001b[0m         \u001b[38;5;129;01mand\u001b[39;00m np\u001b[38;5;241m.\u001b[39misinf(X)\u001b[38;5;241m.\u001b[39many()\n\u001b[1;32m    110\u001b[0m         \u001b[38;5;129;01mor\u001b[39;00m \u001b[38;5;129;01mnot\u001b[39;00m allow_nan\n\u001b[1;32m    111\u001b[0m         \u001b[38;5;129;01mand\u001b[39;00m \u001b[38;5;129;01mnot\u001b[39;00m np\u001b[38;5;241m.\u001b[39misfinite(X)\u001b[38;5;241m.\u001b[39mall()\n\u001b[1;32m    112\u001b[0m     ):\n\u001b[1;32m    113\u001b[0m         type_err \u001b[38;5;241m=\u001b[39m \u001b[38;5;124m\"\u001b[39m\u001b[38;5;124minfinity\u001b[39m\u001b[38;5;124m\"\u001b[39m \u001b[38;5;28;01mif\u001b[39;00m allow_nan \u001b[38;5;28;01melse\u001b[39;00m \u001b[38;5;124m\"\u001b[39m\u001b[38;5;124mNaN, infinity\u001b[39m\u001b[38;5;124m\"\u001b[39m\n\u001b[0;32m--> 114\u001b[0m         \u001b[38;5;28;01mraise\u001b[39;00m \u001b[38;5;167;01mValueError\u001b[39;00m(\n\u001b[1;32m    115\u001b[0m             msg_err\u001b[38;5;241m.\u001b[39mformat(\n\u001b[1;32m    116\u001b[0m                 type_err, msg_dtype \u001b[38;5;28;01mif\u001b[39;00m msg_dtype \u001b[38;5;129;01mis\u001b[39;00m \u001b[38;5;129;01mnot\u001b[39;00m \u001b[38;5;28;01mNone\u001b[39;00m \u001b[38;5;28;01melse\u001b[39;00m X\u001b[38;5;241m.\u001b[39mdtype\n\u001b[1;32m    117\u001b[0m             )\n\u001b[1;32m    118\u001b[0m         )\n\u001b[1;32m    119\u001b[0m \u001b[38;5;66;03m# for object dtype data, we only check for NaNs (GH-13254)\u001b[39;00m\n\u001b[1;32m    120\u001b[0m \u001b[38;5;28;01melif\u001b[39;00m X\u001b[38;5;241m.\u001b[39mdtype \u001b[38;5;241m==\u001b[39m np\u001b[38;5;241m.\u001b[39mdtype(\u001b[38;5;124m\"\u001b[39m\u001b[38;5;124mobject\u001b[39m\u001b[38;5;124m\"\u001b[39m) \u001b[38;5;129;01mand\u001b[39;00m \u001b[38;5;129;01mnot\u001b[39;00m allow_nan:\n",
      "\u001b[0;31mValueError\u001b[0m: Input contains NaN, infinity or a value too large for dtype('float64')."
     ]
    }
   ],
   "source": [
    "pca= PCA(n_components=5)\n",
    "pca.fit(data)"
   ]
  },
  {
   "cell_type": "code",
   "execution_count": null,
   "id": "51a0dcfb",
   "metadata": {},
   "outputs": [],
   "source": [
    "transformed = pca.transform(data)\n",
    "transformed.shape"
   ]
  },
  {
   "cell_type": "code",
   "execution_count": null,
   "id": "8dc95955",
   "metadata": {},
   "outputs": [],
   "source": [
    "pca_data = pandas.DataFrame(transformed)\n",
    "pca_data.insert(0,\"Pacients_IDs\",pacients_ids)"
   ]
  },
  {
   "cell_type": "code",
   "execution_count": null,
   "id": "053bbe16",
   "metadata": {},
   "outputs": [],
   "source": [
    "colors= {'MGH97':'b','MGH60':'g',\"MGH36\":'r',\"MGH93\":'orange',\"MGH54\":'m',\"MGH53\":'y'}\n",
    "for element in pacients_uid:\n",
    "    x = transformed.loc[transformed[\"pacients\"]== element][0]\n",
    "    y = transformed.loc[transformed[\"pacients\"]== element][1]\n",
    "    matplotlib.pyplot.legend()\n",
    "    matplotlib.pyplot.scatter(x, y,c=colors[element],label=str(element))   \n",
    "matplotlib.pyplot.xlabel(\"PCA1\")\n",
    "matplotlib.pyplot.ylabel(\"PCA2\")\n",
    "matplotlib.pyplot.show()"
   ]
  },
  {
   "cell_type": "code",
   "execution_count": null,
   "id": "1dadb79e",
   "metadata": {},
   "outputs": [],
   "source": [
    "import sklearn.manifold \n",
    "tsne_op = sklearn.manifold.TSNE()\n",
    "data_tsne = tsne_op.fit_transform(data)"
   ]
  },
  {
   "cell_type": "code",
   "execution_count": null,
   "id": "93fb1918",
   "metadata": {},
   "outputs": [],
   "source": [
    "tsne_data = pandas.DataFrame(data_tsne)\n",
    "tsne_data.insert(0,\"patients\",patients)\n",
    "tsne_data.head()"
   ]
  },
  {
   "cell_type": "code",
   "execution_count": null,
   "id": "d5de2a6c",
   "metadata": {},
   "outputs": [],
   "source": [
    "tsne_data.shape"
   ]
  },
  {
   "cell_type": "code",
   "execution_count": null,
   "id": "1e6d4f52",
   "metadata": {},
   "outputs": [],
   "source": [
    "colors= {'MGH97':'b','MGH60':'g',\"MGH36\":'r',\"MGH93\":'orange',\"MGH54\":'m',\"MGH53\":'y'}\n",
    "for element in pacients_uid:\n",
    "    x = tsne_data.loc[tsne_data[\"patients\"]== element][0]\n",
    "    y = tsne_data.loc[tsne_data[\"patients\"]== element][1]\n",
    "    matplotlib.pyplot.legend()\n",
    "    matplotlib.pyplot.scatter(x, y,c=colors[element],label=str(element)) \n",
    "matplotlib.pyplot.xlabel(\"t-SNE1\")\n",
    "matplotlib.pyplot.ylabel(\"t-SNE2\")    \n",
    "matplotlib.pyplot.show() "
   ]
  }
 ],
 "metadata": {
  "kernelspec": {
   "display_name": "Python 3 (ipykernel)",
   "language": "python",
   "name": "python3"
  },
  "language_info": {
   "codemirror_mode": {
    "name": "ipython",
    "version": 3
   },
   "file_extension": ".py",
   "mimetype": "text/x-python",
   "name": "python",
   "nbconvert_exporter": "python",
   "pygments_lexer": "ipython3",
   "version": "3.9.7"
  }
 },
 "nbformat": 4,
 "nbformat_minor": 5
}
