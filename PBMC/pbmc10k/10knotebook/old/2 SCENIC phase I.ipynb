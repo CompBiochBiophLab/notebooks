{
 "cells": [
  {
   "cell_type": "markdown",
   "id": "68ed2d09",
   "metadata": {},
   "source": [
    "## SCENIC steps"
   ]
  },
  {
   "cell_type": "markdown",
   "id": "5b1f665d",
   "metadata": {},
   "source": [
    "### STEP 1: Gene regulatory network inference, and generation of co-expression modules\n",
    "#### Phase Ia: GRN inference using the GRNBoost2 algorithm\n",
    "\n",
    "For this step the CLI version of SCENIC is used. This step can be deployed on an High Performance Computing system. We use the counts matrix (without log transformation or further processing) from the loom file we wrote earlier.\n",
    "_Output:_ List of adjacencies between a TF and its targets stored in `ADJACENCIES_FNAME`."
   ]
  },
  {
   "cell_type": "code",
   "execution_count": null,
   "id": "3e63812e",
   "metadata": {},
   "outputs": [],
   "source": [
    "# input file\n",
    "f_loom_path_scenic = \"pbmc10k_filtered_scenic.loom\"\n",
    "\n",
    "f_tfs = \"/Users/lidiayung/github/PBMC/pbmc10k/10knotebook/allTFs_hg38.txt\""
   ]
  },
  {
   "cell_type": "code",
   "execution_count": 3,
   "id": "a6a267a9",
   "metadata": {},
   "outputs": [],
   "source": [
    "hg19-500bp-upstream-10species.mc9nr.genes_vs_motifs.rankings.feather \n",
    "hg19-tss-centered-5kb-10species.mc9nr.genes_vs_motifs.rankings.feather \n",
    "hg19-tss-centered-10kb-10species.mc9nr.genes_vs_motifs.rankings.feather"
   ]
  },
  {
   "cell_type": "code",
   "execution_count": null,
   "id": "f8c314a6",
   "metadata": {},
   "outputs": [],
   "source": [
    "#!pyscenic grn {f_loom_path_scenic} {f_tfs} -o adj.csv --num_workers 8"
   ]
  },
  {
   "cell_type": "code",
   "execution_count": null,
   "id": "619ea3c4",
   "metadata": {},
   "outputs": [],
   "source": [
    "results_folder = '/Users/lidiayung/github/PBMC/pbmc10k/result/'\n",
    "os.chdir(results_folder)\n",
    "f_pyscenic_output = \"pyscenic_output.loom\""
   ]
  },
  {
   "cell_type": "code",
   "execution_count": null,
   "id": "efe050d1",
   "metadata": {},
   "outputs": [],
   "source": [
    "# scenic_threads = 8"
   ]
  },
  {
   "cell_type": "code",
   "execution_count": null,
   "id": "2295bb92",
   "metadata": {},
   "outputs": [],
   "source": [
    "cmd = 'time pyscenic grn {} {} -o adj.csv --num_workers {} > messages.from_coexpression_inference.txt 2>&1'.format(f_loom_path_scenic, f_tfs, scenic_threads)\n",
    "print(cmd)"
   ]
  },
  {
   "cell_type": "code",
   "execution_count": null,
   "id": "4fa8f56c",
   "metadata": {},
   "outputs": [],
   "source": [
    "%%time\n",
    "os.system(cmd)"
   ]
  },
  {
   "cell_type": "code",
   "execution_count": null,
   "id": "32e626b1",
   "metadata": {},
   "outputs": [],
   "source": [
    "adjacencies = pandas.read_csv(\"adj.csv\".format(results_folder), index_col=False, sep=',')\n",
    "adjacencies.head(10)"
   ]
  },
  {
   "cell_type": "markdown",
   "id": "d8b002b9",
   "metadata": {},
   "source": [
    "### STEP 2:  TF-motif enrichment analysis and direct targets (regulons)"
   ]
  },
  {
   "cell_type": "code",
   "execution_count": null,
   "id": "ca40bba6",
   "metadata": {},
   "outputs": [],
   "source": [
    "import glob\n",
    "# ranking databases\n",
    "f_db_glob = \"*feather\"\n",
    "f_db_names = ' '.join( glob.glob(f_db_glob) )\n",
    "\n",
    "# motif databases\n",
    "f_motif_path = \"motifs-v9-nr.hgnc-m0.001-o0.0.tbl\""
   ]
  }
 ],
 "metadata": {
  "kernelspec": {
   "display_name": "Python 3 (ipykernel)",
   "language": "python",
   "name": "python3"
  },
  "language_info": {
   "codemirror_mode": {
    "name": "ipython",
    "version": 3
   },
   "file_extension": ".py",
   "mimetype": "text/x-python",
   "name": "python",
   "nbconvert_exporter": "python",
   "pygments_lexer": "ipython3",
   "version": "3.9.7"
  }
 },
 "nbformat": 4,
 "nbformat_minor": 5
}
